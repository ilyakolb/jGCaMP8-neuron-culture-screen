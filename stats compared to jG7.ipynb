{
 "cells": [
  {
   "cell_type": "code",
   "execution_count": 1,
   "id": "express-flavor",
   "metadata": {
    "scrolled": false
   },
   "outputs": [
    {
     "name": "stdout",
     "output_type": "stream",
     "text": [
      "Filtered GC6 constructs: 652\n",
      "Filtered jG7 constructs: 652\n",
      "\n",
      "\n",
      "Half-rise time (1 AP)\n",
      "========\n",
      "larger: 31, 4.75%\n",
      "smaller: 316, 48.47%\n",
      "\n",
      "\n",
      "Half-decay time (1 AP)\n",
      "========\n",
      "larger: 26, 3.99%\n",
      "smaller: 259, 39.72%\n",
      "\n",
      "\n",
      "Time to peak (1 AP)\n",
      "========\n",
      "larger: 29, 4.45%\n",
      "smaller: 311, 47.70%\n",
      "\n",
      "\n",
      "DF/F (1 AP)\n",
      "========\n",
      "larger: 121, 18.56%\n",
      "smaller: 137, 21.01%\n",
      "\n",
      "\n",
      "DF/F (160 AP)\n",
      "========\n",
      "larger: 12, 1.84%\n",
      "smaller: 260, 39.88%\n",
      "\n",
      "\n"
     ]
    }
   ],
   "source": [
    "'''\n",
    "load jG7 data and compute stats\n",
    "'''\n",
    "import pandas as pd\n",
    "from utils import condition_df\n",
    "\n",
    "p_val_thresh = 0.001\n",
    "vars_to_compute = ['Half-rise time (1 AP)', 'Half-decay time (1 AP)', 'Time to peak (1 AP)', 'DF/F (1 AP)', 'DF/F (160 AP)']\n",
    "# load GCaMP6-normalized data\n",
    "data_filt_GC6 = pd.read_pickle('data/data_filt.pkl')\n",
    "\n",
    "print('Filtered GC6 constructs: ' + str(len(data_filt_GC6)))\n",
    "# load jGCaMP7-normalized csv\n",
    "csv_dir = r'./data/data_all_jG7control.csv' ########### UPDATE\n",
    "\n",
    "data_jG7 = pd.read_csv(csv_dir, na_values = '#NUM!')\n",
    "data_jG7 = data_jG7.set_index('Construct')\n",
    "\n",
    "data_jG7 = condition_df(data_jG7)\n",
    "\n",
    "# only include constructs already in GC6 set\n",
    "common_constructs = list(set(data_jG7.index) & set(data_filt_GC6['Construct']))\n",
    "data_filt_jG7 = data_jG7.loc[common_constructs]\n",
    "\n",
    "print('Filtered jG7 constructs: ' + str(n_constructs := len(data_filt_jG7)) + '\\n\\n')\n",
    "\n",
    "# compute number of significantly larger and smaller \n",
    "for var in vars_to_compute:\n",
    "    print(var + '\\n========')\n",
    "    n_larger = sum((data_filt_jG7[var] > 1) & (data_filt_jG7[var + '(p)'] < p_val_thresh))\n",
    "    n_smaller = sum((data_filt_jG7[var] < 1) & (data_filt_jG7[var + '(p)'] < p_val_thresh))\n",
    "    print('larger: {}, {:.2f}%'.format(n_larger, 100*n_larger/n_constructs))\n",
    "    print('smaller: {}, {:.2f}%\\n\\n'.format(n_smaller, 100*n_smaller/n_constructs))"
   ]
  },
  {
   "cell_type": "code",
   "execution_count": 52,
   "id": "prompt-reservoir",
   "metadata": {
    "scrolled": false
   },
   "outputs": [
    {
     "data": {
      "text/plain": [
       "30"
      ]
     },
     "execution_count": 52,
     "metadata": {},
     "output_type": "execute_result"
    }
   ],
   "source": [
    "sum((data_filt_jG7['Half-rise time (1 AP)'] > 1) & (data_filt_jG7['Half-rise time (1 AP)(p)'] < p_val_thresh))"
   ]
  },
  {
   "cell_type": "code",
   "execution_count": 5,
   "id": "beneficial-dragon",
   "metadata": {
    "scrolled": true
   },
   "outputs": [
    {
     "data": {
      "text/plain": [
       "{'DF/F (1 AP)',\n",
       " 'DF/F (160 AP)',\n",
       " 'Half-decay time (1 AP)',\n",
       " 'Half-rise time (1 AP)',\n",
       " 'Time to peak (1 AP)'}"
      ]
     },
     "execution_count": 5,
     "metadata": {},
     "output_type": "execute_result"
    }
   ],
   "source": [
    "vars_to_compute"
   ]
  },
  {
   "cell_type": "code",
   "execution_count": null,
   "id": "capital-destruction",
   "metadata": {},
   "outputs": [],
   "source": [
    "data_filt_jG7.rename()"
   ]
  }
 ],
 "metadata": {
  "kernelspec": {
   "display_name": "Python 3",
   "language": "python",
   "name": "python3"
  },
  "language_info": {
   "codemirror_mode": {
    "name": "ipython",
    "version": 3
   },
   "file_extension": ".py",
   "mimetype": "text/x-python",
   "name": "python",
   "nbconvert_exporter": "python",
   "pygments_lexer": "ipython3",
   "version": "3.8.10"
  }
 },
 "nbformat": 4,
 "nbformat_minor": 5
}
